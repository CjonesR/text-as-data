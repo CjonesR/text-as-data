{
 "cells": [
  {
   "cell_type": "code",
   "execution_count": 7,
   "id": "c57c488e-63fa-482d-9c4d-474fbb46ee48",
   "metadata": {},
   "outputs": [],
   "source": [
    "from boxoffice_api import BoxOffice\n",
    "\n",
    "box_office = BoxOffice()"
   ]
  },
  {
   "cell_type": "code",
   "execution_count": 8,
   "id": "f19d3c25-3667-4b22-99ec-39a7599243f6",
   "metadata": {},
   "outputs": [
    {
     "ename": "AttributeError",
     "evalue": "'BoxOffice' object has no attribute 'get_movie_stats_by_name'",
     "output_type": "error",
     "traceback": [
      "\u001b[0;31m---------------------------------------------------------------------------\u001b[0m",
      "\u001b[0;31mAttributeError\u001b[0m                            Traceback (most recent call last)",
      "Cell \u001b[0;32mIn[8], line 1\u001b[0m\n\u001b[0;32m----> 1\u001b[0m \u001b[38;5;28mprint\u001b[39m (\u001b[43mbox_office\u001b[49m\u001b[38;5;241;43m.\u001b[39;49m\u001b[43mget_movie_stats_by_name\u001b[49m(\u001b[38;5;124m'\u001b[39m\u001b[38;5;124mblack panther\u001b[39m\u001b[38;5;124m'\u001b[39m))\n",
      "\u001b[0;31mAttributeError\u001b[0m: 'BoxOffice' object has no attribute 'get_movie_stats_by_name'"
     ]
    }
   ],
   "source": [
    "print (box_office.get_movie_stats_by_name('black panther'))"
   ]
  }
 ],
 "metadata": {
  "kernelspec": {
   "display_name": "Python 3 (ipykernel)",
   "language": "python",
   "name": "python3"
  },
  "language_info": {
   "codemirror_mode": {
    "name": "ipython",
    "version": 3
   },
   "file_extension": ".py",
   "mimetype": "text/x-python",
   "name": "python",
   "nbconvert_exporter": "python",
   "pygments_lexer": "ipython3",
   "version": "3.11.7"
  }
 },
 "nbformat": 4,
 "nbformat_minor": 5
}
