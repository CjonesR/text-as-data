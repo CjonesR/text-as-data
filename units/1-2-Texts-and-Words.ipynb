{
 "cells": [
  {
   "cell_type": "markdown",
   "metadata": {
    "editable": true,
    "slideshow": {
     "slide_type": "slide"
    },
    "tags": []
   },
   "source": [
    "# Texts and Words"
   ]
  },
  {
   "cell_type": "markdown",
   "metadata": {},
   "source": [
    "In the beginning of the first chapter of _[Natural Language Processing with Python](https://www.nltk.org/book/ch01.html)_, the authors have you download and import a number of prepared texts, which the rest of the chapter then uses. We already have a text, so this notebook starts off by importing the `nltk` library and then making it into the particular kind of *Text* that many `nltk` operations expect. For now, simply run the code in the first cell and let it set up Richard Connell's \"The Most Dangerous Game\" as well as Joseph Conrad's _Heart of Darkness_ as two text objects you can then explore.\n",
    "\n",
    "This notebook is designed to allow you to explore the first section of the first chapter, \"Computing with Language: Texts and Words\" in the NLTK book. That is all that is due for next time. We will work through the rest of the chapter next week."
   ]
  },
  {
   "cell_type": "code",
   "execution_count": null,
   "metadata": {
    "editable": true,
    "slideshow": {
     "slide_type": "fragment"
    },
    "tags": []
   },
   "outputs": [],
   "source": [
    "# Imports\n",
    "import re\n",
    "import nltk\n",
    "\n",
    "# Open and read the file to create a string object\n",
    "mdg_string = open('../data/mdg.txt', 'r').read()\n",
    "# Create a list of substrings, aka words\n",
    "mdg_words = nltk.tokenize.word_tokenize(mdg_string)\n",
    "# Create the NLTK Text object\n",
    "mdg = nltk.Text(mdg_words)\n",
    "\n",
    "# Repeat for \"Heart of Darkness\"\n",
    "hod_string = open('../data/hod.txt', 'r').read()\n",
    "hod_words = nltk.tokenize.word_tokenize(hod_string)\n",
    "hod = nltk.Text(hod_words)"
   ]
  },
  {
   "cell_type": "markdown",
   "metadata": {},
   "source": [
    "## Searching Text\n",
    "\n",
    "The authors introduce `concordance`, `similar`, `common_context`, `dispersion_plot`, and `generate` in this section. I have done concordance for you. Try a few words in concordance: you can do it in the same cell or in a series of cells, then do the same with the other functions. \n",
    "\n",
    "When you get to the dispersion plot, please note that, as the authors warn, you have to have other Python libraries installed for it to work. If you can't get it to work, don't worry about it: we will get that working in class. If you can get it to work, try moving back and forth between concordance and dispersion to see how much you can narrow in on the meaning of \"The Most Dangerous Game\" through finding the contexts / placement of 4-6 \"key words.\" (Oh how the notion of \"key\" is going to haunt us!)"
   ]
  },
  {
   "cell_type": "code",
   "execution_count": null,
   "metadata": {},
   "outputs": [],
   "source": [
    "mdg.concordance(\"smiled\")"
   ]
  }
 ],
 "metadata": {
  "kernelspec": {
   "display_name": "Python 3 (ipykernel)",
   "language": "python",
   "name": "python3"
  },
  "language_info": {
   "codemirror_mode": {
    "name": "ipython",
    "version": 3
   },
   "file_extension": ".py",
   "mimetype": "text/x-python",
   "name": "python",
   "nbconvert_exporter": "python",
   "pygments_lexer": "ipython3",
   "version": "3.11.7"
  }
 },
 "nbformat": 4,
 "nbformat_minor": 4
}
